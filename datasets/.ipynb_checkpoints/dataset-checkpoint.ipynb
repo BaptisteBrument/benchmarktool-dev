{
 "cells": [
  {
   "cell_type": "code",
   "execution_count": null,
   "metadata": {},
   "outputs": [],
   "source": [
    "import json"
   ]
  },
  {
   "cell_type": "code",
   "execution_count": null,
   "metadata": {},
   "outputs": [],
   "source": [
    "with open(\"data2.json\") as json_file:\n",
    "        content = json.load(json_file)"
   ]
  },
  {
   "cell_type": "code",
   "execution_count": null,
   "metadata": {},
   "outputs": [],
   "source": [
    "class Dataset:\n",
    "    def __init__(self, data, title=\"dataset\"):\n",
    "        self.data = data\n",
    "        self.title = title\n",
    "        self.nEntities = 0\n",
    "        self.mostCommon = []\n",
    "        return\n",
    "    \n",
    "    def __del__(self): \n",
    "        del self.data\n",
    "        print(\"destruction of the dataset\")\n",
    "        \n",
    "    def __repr__(self):\n",
    "        return {'data':self.data, 'nEntitities':self.nEntities, 'lstEntities':self.mostCommon}\n",
    "      \n",
    "    def __str__(self):\n",
    "        return 'the dataset \"'+self.title+'\" has '+str(self.nEntities)+' entities.'\n",
    "        \n",
    "        \n",
    "    def printContent(self):\n",
    "        return self.data\n",
    "    \n",
    "    def printTitle(self):\n",
    "        return self.title\n",
    "    \n",
    "    def printMostCommon(self):\n",
    "        return self.mostCommon\n",
    "        \n",
    "    def isCorrect(self):\n",
    "        self.nEntities = 0\n",
    "        lenData = len(self.data)\n",
    "        #parsing the file & checking if it's correct\n",
    "        for i in range(lenData):\n",
    "            if not self.data[i][\"text\"]:\n",
    "                print(\"error, the text is empty\\n\")\n",
    "                return False\n",
    "            lenEntities = len(self.data[i][\"entities\"])\n",
    "            #for each entity\n",
    "            for j in range(lenEntities):\n",
    "                if self.data[i][\"entities\"][j][0] > self.data[i][\"entities\"][j][1]:\n",
    "                    print(\"error, incorrect index\\n\")\n",
    "                    return False\n",
    "                if not self.data[i][\"entities\"][j][2]:\n",
    "                    print(\"error, the annotation is empty\\n\")\n",
    "                    return False\n",
    "            self.nEntities += lenEntities\n",
    "        return True\n",
    "    \n",
    "    def setParameters(self):\n",
    "        lenData = len(self.data)\n",
    "        labels = []\n",
    "        #parsing the file & checking if it's correct\n",
    "        for i in range(lenData):\n",
    "            lenEntities = len(self.data[i][\"entities\"])\n",
    "            #for each entity\n",
    "            for j in range(lenEntities):\n",
    "                labels.append(self.data[i][\"entities\"][j][2])\n",
    "        \n",
    "        #Find most common labels\n",
    "        dic = {}\n",
    "        for word in labels:\n",
    "            dic.setdefault(word, 0)\n",
    "            dic[word] += 1\n",
    "        labelList = [(dic.get(w), w) for w in dic]\n",
    "        if self.nEntities < 5 : \n",
    "            self.mostCommon = labelList\n",
    "        else:\n",
    "            self.mostCommon = labelList[:5]\n",
    "        return labelList"
   ]
  },
  {
   "cell_type": "code",
   "execution_count": null,
   "metadata": {},
   "outputs": [],
   "source": [
    "d = Dataset(content, \"data\")"
   ]
  },
  {
   "cell_type": "code",
   "execution_count": null,
   "metadata": {},
   "outputs": [],
   "source": [
    "if(d.isCorrect()):\n",
    "    labels = d.setParameters()\n",
    "    print(d.printMostCommon())\n",
    "    del d"
   ]
  }
 ],
 "metadata": {
  "kernelspec": {
   "display_name": "Python 3",
   "language": "python",
   "name": "python3"
  },
  "language_info": {
   "codemirror_mode": {
    "name": "ipython",
    "version": 3
   },
   "file_extension": ".py",
   "mimetype": "text/x-python",
   "name": "python",
   "nbconvert_exporter": "python",
   "pygments_lexer": "ipython3",
   "version": "3.7.3"
  }
 },
 "nbformat": 4,
 "nbformat_minor": 2
}

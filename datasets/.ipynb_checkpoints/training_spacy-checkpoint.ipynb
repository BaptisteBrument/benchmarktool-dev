{
 "cells": [
  {
   "cell_type": "code",
   "execution_count": 1,
   "metadata": {},
   "outputs": [],
   "source": [
    "# Importation des packages\n",
    "\n",
    "from __future__ import unicode_literals, print_function\n",
    "import plac #  wrapper over argparse\n",
    "import random\n",
    "from pathlib import Path\n",
    "import spacy\n",
    "from tqdm import tqdm # loading bar\n",
    "from spacy import displacy\n",
    "\n",
    "from spacy.gold import GoldParse\n",
    "from spacy.scorer import Scorer"
   ]
  },
  {
   "cell_type": "code",
   "execution_count": 2,
   "metadata": {},
   "outputs": [],
   "source": [
    "# Liste des entités que l'on voudra reconnaitre\n",
    "LABEL = 'ANIMAL'"
   ]
  },
  {
   "cell_type": "code",
   "execution_count": 3,
   "metadata": {},
   "outputs": [],
   "source": [
    "# Jeu d'entrainement \n",
    "\n",
    "TRAIN_DATA = [\n",
    "    (\"Quel beau cheval!\", {\n",
    "        'entities': [(10, 16, 'ANIMAL')]\n",
    "    }),\n",
    "\n",
    "    (\"Le cheval.\", {\n",
    "        'entities': [(3, 9, 'ANIMAL')]\n",
    "    }),\n",
    "\n",
    "    (\"Cheval blanc, cheval noir.\", {\n",
    "        'entities': [(0, 6, 'ANIMAL'),(14, 20, 'ANIMAL')]\n",
    "    }),\n",
    "\n",
    "    (\"J'aime les chevaux.\", {\n",
    "        'entities': [(11, 17, 'ANIMAL')]\n",
    "    }),\n",
    "\n",
    "    (\"Le cheval ne vaut pas l'avoine.\", {\n",
    "        'entities': [(3, 9, 'ANIMAL')]\n",
    "    }),\n",
    "    (\"Monte sur ton cheval le plus noble.\", {\n",
    "        'entities': [(14, 20, 'ANIMAL')]\n",
    "    }),\n",
    "    (\"Bride de cheval ne va pas à un âne..\", {\n",
    "        'entities': [(9, 15, 'ANIMAL'),(31, 34, 'ANIMAL')]\n",
    "    }),\n",
    "    (\"On connaît le cheval en chemin, et le cavalier à l'auberge.\", {\n",
    "        'entities': [(14, 20, 'ANIMAL')]\n",
    "    })\n",
    "    \n",
    "]"
   ]
  },
  {
   "cell_type": "code",
   "execution_count": null,
   "metadata": {},
   "outputs": [],
   "source": [
    "# Choix des paramètres\n",
    "\n",
    "model = None# Si model = None alors nouveau modèle \n",
    "model_name = \"Animal\"# Nom du modèle\n",
    "out_dir = None # répertoire où sauvegarder le modèle\n",
    "nb_iter = 15 # nombre d'itérations\n",
    "\n",
    "params = (model, model_name,TRAIN_DATA, LABEL, out_dir, nb_iter)"
   ]
  },
  {
   "cell_type": "code",
   "execution_count": null,
   "metadata": {},
   "outputs": [],
   "source": [
    "class Model:\n",
    "    def __init__(self,model,model_name, training_data,labels,out_dir, nb_iter):\n",
    "        self.model_name = model_name\n",
    "        self.nb_iter = nb_iter\n",
    "        self.training_data = training_data\n",
    "        self.out_dir=out_dir\n",
    "        if model is not None:\n",
    "            self.nlp = spacy.load(model)\n",
    "            print(\"Loaded model '%s'\" % model)\n",
    "        else:\n",
    "            self.nlp = spacy.blank('fr')\n",
    "            print(\"Created blank'fr' model\")\n",
    "            \n",
    "        if 'ner' not in self.nlp.pipe_names:\n",
    "            self.ner = self.nlp.create_pipe('ner')\n",
    "            self.nlp.add_pipe(self.ner)\n",
    " \n",
    "        else:\n",
    "            self.ner = nlp.get_pipe('ner')\n",
    "            \n",
    "        self.ner.add_label(labels)\n",
    "        if model is None:\n",
    "            self.optimizer = self.nlp.begin_training()\n",
    "        else:\n",
    "            self.optimizer = self.nlp.entity.create_optimizer()\n",
    "            \n",
    "\n",
    "    def train(self):\n",
    "        other_pipes = [pipe for pipe in self.nlp.pipe_names if pipe != 'ner']\n",
    "        with self.nlp.disable_pipes(*other_pipes):  # only train NER\n",
    "            for itn in range(self.nb_iter):\n",
    "                random.shuffle(self.training_data)\n",
    "                losses = {}\n",
    "                for text, annotations in tqdm(self.training_data):\n",
    "                    self.nlp.update([text], [annotations], sgd=self.optimizer, drop=0.35,\n",
    "                        losses=losses)\n",
    "                print(losses)\n",
    "                \n",
    "    def test(self, test_data):\n",
    "        doc = self.nlp(test_data)\n",
    "        displacy.render(doc, style=\"ent\", jupyter=\"true\")\n",
    "        return doc\n",
    "\n",
    "    def evaluate(self, examples):\n",
    "        scorer = Scorer()\n",
    "        for sents, ents in examples:\n",
    "            doc_gold = self.nlp.make_doc(sents)\n",
    "            gold = GoldParse(doc_gold, entities=ents['entities'])\n",
    "            pred_value = self.nlp(sents)\n",
    "            displacy.render(pred_value, style=\"ent\", jupyter=\"true\")\n",
    "            scorer.score(pred_value, gold)\n",
    "        return scorer.scores"
   ]
  },
  {
   "cell_type": "code",
   "execution_count": null,
   "metadata": {},
   "outputs": [],
   "source": [
    "# Création du modèle\n",
    "model = Model(model, model_name,TRAIN_DATA, LABEL, out_dir, nb_iter)"
   ]
  },
  {
   "cell_type": "code",
   "execution_count": null,
   "metadata": {},
   "outputs": [],
   "source": [
    "#Entrainement du modèle\n",
    "model.train()"
   ]
  },
  {
   "cell_type": "code",
   "execution_count": null,
   "metadata": {},
   "outputs": [],
   "source": [
    "# Test du modèle:\n",
    "test_text = (\"On dit qu\\'un cheval est calme lorsqu'il limite l\\'emploi de ses forces aux exigences de son cavalier. \"\n",
    "            \"Tout travail entreprit sur un cheval irrité, impatient, inquiet, préoccupé de ce qui l\\'entoure ou en crainte \"\n",
    "            \"de son cavalier, ne peut être que mauvais. Le calme n\\'est donc pas comparable à de\"\n",
    "            \"l\\'apathie et n'est pas le propre des chevaux manquant d\\'influx nerveux. Un cheval endormi n\\'est pas \"\n",
    "            \"nécessairement un cheval calme et la résignation du cheval recherchée quelques fois par la mise en œuvre \"\n",
    "            \"de procédures brutales n\\'est pas non plus une source de calme. On a trop tendance à associer le calme à un \"\n",
    "            \"\\'manque de vie\\', voire un obstacle à la performance sportive. C\\'est tout le contraire, un cheval calme est \"\n",
    "            \"vivant, réactif et ordonné.\")\n",
    "\n",
    "doc= model.test(test_text)"
   ]
  },
  {
   "cell_type": "code",
   "execution_count": null,
   "metadata": {},
   "outputs": [],
   "source": [
    "examples = [(\"On dit qu\\'un cheval est calme\",{\n",
    "            'entities': [(13, 19, 'ANIMAL')]\n",
    "            }),\n",
    "            (\"Un cheval endormi n\\'est pas nécessairement un zèbre calme\",{\n",
    "             'entities': [(3, 9, 'ANIMAL'),(46,51, 'ANIMAL')]   \n",
    "            })\n",
    "           ]\n",
    "res = model.evaluate(examples)"
   ]
  },
  {
   "cell_type": "code",
   "execution_count": null,
   "metadata": {},
   "outputs": [],
   "source": [
    "#ents_p = entities_precision\n",
    "#ents_r = entities_recall\n",
    "#ents_f = entities_f_score\n",
    "print(\"precision : {}, recall : {}, f_score : {}\".format(res['ents_p'],res['ents_r'], res['ents_f']))\n",
    "\n"
   ]
  }
 ],
 "metadata": {
  "kernelspec": {
   "display_name": "Python 3",
   "language": "python",
   "name": "python3"
  },
  "language_info": {
   "codemirror_mode": {
    "name": "ipython",
    "version": 3
   },
   "file_extension": ".py",
   "mimetype": "text/x-python",
   "name": "python",
   "nbconvert_exporter": "python",
   "pygments_lexer": "ipython3",
   "version": "3.7.6"
  }
 },
 "nbformat": 4,
 "nbformat_minor": 4
}

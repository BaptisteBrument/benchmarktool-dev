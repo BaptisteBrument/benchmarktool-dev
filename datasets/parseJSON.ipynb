{
 "cells": [
  {
   "cell_type": "code",
   "execution_count": 21,
   "metadata": {},
   "outputs": [],
   "source": [
    "import json\n",
    "spacyFormat = []\n",
    "with open('data.json') as json_file:\n",
    "    data = json.load(json_file)\n",
    "    lenData = len(data)\n",
    "    \n",
    "    #parsing the file & checking if it's correct\n",
    "    correct = True\n",
    "    for i in range(lenData):\n",
    "        if not data[i][\"text\"]:\n",
    "            print(\"error, the text is empty\\n\")\n",
    "            correct = False\n",
    "        lenEntities = len(data[i][\"entities\"])\n",
    "        #for each entity\n",
    "        for j in range(lenEntities):\n",
    "            if data[i][\"entities\"][j][0] > data[i][\"entities\"][j][1]:\n",
    "                print(\"error, incorrect index\\n\")\n",
    "                correct = False\n",
    "            if not data[i][\"entities\"][j][2]:\n",
    "                print(\"error, the annotation is empty\\n\")\n",
    "                correct = False\n",
    "            if correct:\n",
    "                newDict ={}\n",
    "                newDict['entities'] = [(data[i][\"entities\"][j][0], data[i][\"entities\"][j][1], data[i][\"entities\"][j][2])]\n",
    "                spacyFormat.append((data[i][\"text\"], newDict))\n"
   ]
  },
  {
   "cell_type": "code",
   "execution_count": 23,
   "metadata": {},
   "outputs": [],
   "source": [
    "def parsingJSON(path):\n",
    "    with open(path) as json_file:\n",
    "        data = json.load(json_file)\n",
    "        lenData = len(data)\n",
    "\n",
    "        #parsing the file & checking if it's correct\n",
    "        for i in range(lenData):\n",
    "            if not data[i][\"text\"]:\n",
    "                print(\"error, the text is empty\\n\")\n",
    "                return None\n",
    "            lenEntities = len(data[i][\"entities\"])\n",
    "            #for each entity\n",
    "            for j in range(lenEntities):\n",
    "                if data[i][\"entities\"][j][0] > data[i][\"entities\"][j][1]:\n",
    "                    print(\"error, incorrect index\\n\")\n",
    "                    return None\n",
    "                if not data[i][\"entities\"][j][2]:\n",
    "                    print(\"error, the annotation is empty\\n\")\n",
    "                    correct = None\n",
    "        return data"
   ]
  },
  {
   "cell_type": "code",
   "execution_count": 25,
   "metadata": {},
   "outputs": [],
   "source": [
    "def toSpacyFormat(data):\n",
    "    spacyFormat = []\n",
    "    lenData = len(data)\n",
    "\n",
    "    #parsing the file & checking if it's correct\n",
    "    for i in range(lenData):\n",
    "        for j in range(lenEntities):\n",
    "            newDict ={}\n",
    "            newDict['entities'] = [(data[i][\"entities\"][j][0], data[i][\"entities\"][j][1], data[i][\"entities\"][j][2])]\n",
    "            spacyFormat.append((data[i][\"text\"], newDict))\n",
    "    return spacyFormat"
   ]
  },
  {
   "cell_type": "code",
   "execution_count": 27,
   "metadata": {},
   "outputs": [
    {
     "name": "stdout",
     "output_type": "stream",
     "text": [
      "[('Cheval', {'entities': [(0, 6, 'animal')]}), ('Cheval', {'entities': [(0, 6, 'animal')]})]\n"
     ]
    }
   ],
   "source": [
    "data = parsingJSON(\"data.json\")\n",
    "if data == None : \n",
    "    print(\"cannot parse the file\")\n",
    "else:\n",
    "    spacyFormat = toSpacyFormat(data)\n",
    "    print(spacyFormat)"
   ]
  }
 ],
 "metadata": {
  "kernelspec": {
   "display_name": "Python 3",
   "language": "python",
   "name": "python3"
  },
  "language_info": {
   "codemirror_mode": {
    "name": "ipython",
    "version": 3
   },
   "file_extension": ".py",
   "mimetype": "text/x-python",
   "name": "python",
   "nbconvert_exporter": "python",
   "pygments_lexer": "ipython3",
   "version": "3.7.3"
  }
 },
 "nbformat": 4,
 "nbformat_minor": 2
}

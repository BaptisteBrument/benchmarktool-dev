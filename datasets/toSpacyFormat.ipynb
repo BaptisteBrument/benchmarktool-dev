{
 "cells": [
  {
   "cell_type": "code",
   "execution_count": null,
   "metadata": {},
   "outputs": [],
   "source": [
    "def toSpacyFormat(data):\n",
    "    spacyFormat = []\n",
    "    lenData = len(data)\n",
    "    lenEntities = 0\n",
    "\n",
    "    #parsing the file & checking if it's correct\n",
    "    for i in range(lenData):\n",
    "        lenEntities = len(data[i][\"entities\"])\n",
    "        for j in range(lenEntities):\n",
    "            newDict ={}\n",
    "            newDict['entities'] = [(data[i][\"entities\"][j][0], data[i][\"entities\"][j][1], data[i][\"entities\"][j][2])]\n",
    "            spacyFormat.append((data[i][\"text\"], newDict))\n",
    "    return spacyFormat"
   ]
  },
  {
   "cell_type": "code",
   "execution_count": null,
   "metadata": {},
   "outputs": [],
   "source": [
    "import json\n",
    "with open('data2.json') as json_file:\n",
    "    data = json.load(json_file)\n",
    "    \n",
    "if data == None : \n",
    "    print(\"cannot parse the file\")\n",
    "else:\n",
    "    spacyFormat = toSpacyFormat(data)\n",
    "    print(spacyFormat)"
   ]
  }
 ],
 "metadata": {
  "kernelspec": {
   "display_name": "Python 3",
   "language": "python",
   "name": "python3"
  },
  "language_info": {
   "codemirror_mode": {
    "name": "ipython",
    "version": 3
   },
   "file_extension": ".py",
   "mimetype": "text/x-python",
   "name": "python",
   "nbconvert_exporter": "python",
   "pygments_lexer": "ipython3",
   "version": "3.7.3"
  }
 },
 "nbformat": 4,
 "nbformat_minor": 2
}

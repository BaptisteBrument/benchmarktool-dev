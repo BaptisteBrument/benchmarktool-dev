{
  "nbformat": 4,
  "nbformat_minor": 0,
  "metadata": {
    "kernelspec": {
      "display_name": "Python 3",
      "language": "python",
      "name": "python3"
    },
    "language_info": {
      "codemirror_mode": {
        "name": "ipython",
        "version": 3
      },
      "file_extension": ".py",
      "mimetype": "text/x-python",
      "name": "python",
      "nbconvert_exporter": "python",
      "pygments_lexer": "ipython3",
      "version": "3.7.5"
    },
    "colab": {
      "name": "flair_format.ipynb",
      "provenance": [],
      "collapsed_sections": []
    }
  },
  "cells": [
    {
      "cell_type": "code",
      "metadata": {
        "id": "FKPT3U54cm6B",
        "colab_type": "code",
        "colab": {}
      },
      "source": [
        "from dataset import *\n",
        "from nltk import RegexpTokenizer"
      ],
      "execution_count": 24,
      "outputs": []
    },
    {
      "cell_type": "code",
      "metadata": {
        "id": "h4HesE-Scm6L",
        "colab_type": "code",
        "colab": {}
      },
      "source": [
        "with open(\"cheval_annotated.json\", \"r\") as file :\n",
        "    content = file.read()\n",
        "    content = json.loads(content)"
      ],
      "execution_count": 2,
      "outputs": []
    },
    {
      "cell_type": "code",
      "metadata": {
        "id": "Vs5xje86cm6V",
        "colab_type": "code",
        "colab": {}
      },
      "source": [
        "train = TrainData(\"data\")"
      ],
      "execution_count": 3,
      "outputs": []
    },
    {
      "cell_type": "code",
      "metadata": {
        "id": "6bcM5L68cm6d",
        "colab_type": "code",
        "colab": {
          "base_uri": "https://localhost:8080/",
          "height": 36
        },
        "outputId": "ff330d71-9089-4d74-bd79-668baf8547e8"
      },
      "source": [
        "if(train.filter_json(content)):\n",
        "    if(train.is_correct()):\n",
        "        if(train.metadata()):\n",
        "          data = train.get_file()"
      ],
      "execution_count": 4,
      "outputs": [
        {
          "output_type": "stream",
          "text": [
            "the dataset \"data\" has 49 entities.\n"
          ],
          "name": "stdout"
        }
      ]
    },
    {
      "cell_type": "markdown",
      "metadata": {
        "id": "_i9nJUhscm6w",
        "colab_type": "text"
      },
      "source": [
        "## Tokenization\n",
        "\n"
      ]
    },
    {
      "cell_type": "code",
      "metadata": {
        "id": "iGIfslR_cm62",
        "colab_type": "code",
        "colab": {}
      },
      "source": [
        "def tokenize(text):\n",
        "    pattern = re.compile(r\"\\w'|\\w+|[^\\w\\s]\")\n",
        "    return pattern.finditer(text)"
      ],
      "execution_count": 30,
      "outputs": []
    },
    {
      "cell_type": "markdown",
      "metadata": {
        "id": "Tsun4KLzcm7G",
        "colab_type": "text"
      },
      "source": [
        "## BIO format"
      ]
    },
    {
      "cell_type": "code",
      "metadata": {
        "id": "Ywn3a7b3g3i1",
        "colab_type": "code",
        "colab": {}
      },
      "source": [
        "file = open(\"flair_annot.txt\", \"w\")\n",
        "pos_beg = 0\n",
        "pos_end = 1\n",
        "annot_beg = 0\n",
        "annot_end = 1\n",
        "label = None\n",
        "matches = None\n",
        "\n",
        "for obj in data:\n",
        "  matches = tokenize(obj['text'])\n",
        "  if not matches:\n",
        "    print(\"error\")\n",
        "\n",
        "  for m in matches:\n",
        "    file.write(m.group())\n",
        "    file.write(\" \")\n",
        "    pos_beg = m.span()[0]\n",
        "    pos_end = m.span()[1]\n",
        "\n",
        "    for e in obj['entities']:\n",
        "      annot_beg = e[0]\n",
        "      annot_end = e[1]\n",
        "      label = e[2]\n",
        "      #At the beginning of the entity's position\n",
        "      if pos_beg == annot_beg:\n",
        "        file.write(\"B-\"+label)\n",
        "          \n",
        "      #between the entity's position\n",
        "      elif pos_beg > annot_beg and pos_end <= annot_end:\n",
        "        file.write(\"I-\"+label)\n",
        "      else:\n",
        "        file.write(\"O\")\n",
        "\n",
        "      file.write(\"\\n\")\n",
        "  file.write(\"\\n\")\n",
        "\n",
        "file.close()"
      ],
      "execution_count": 37,
      "outputs": []
    }
  ]
}
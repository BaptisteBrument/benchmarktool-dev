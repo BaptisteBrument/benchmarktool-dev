{
 "cells": [
  {
   "cell_type": "code",
   "execution_count": 94,
   "metadata": {},
   "outputs": [],
   "source": [
    "# Importation des packages\n",
    "\n",
    "from __future__ import unicode_literals, print_function\n",
    "import plac #  wrapper over argparse\n",
    "import random\n",
    "from pathlib import Path\n",
    "import spacy\n",
    "from tqdm import tqdm # loading bar\n",
    "from spacy import displacy\n",
    "\n",
    "from spacy.gold import GoldParse\n",
    "from spacy.scorer import Scorer"
   ]
  },
  {
   "cell_type": "code",
   "execution_count": 95,
   "metadata": {},
   "outputs": [],
   "source": [
    "# Liste des entités que l'on voudra reconnaitre\n",
    "LABEL = 'ANIMAL'"
   ]
  },
  {
   "cell_type": "code",
   "execution_count": 96,
   "metadata": {},
   "outputs": [],
   "source": [
    "# Jeu d'entrainement \n",
    "\n",
    "TRAIN_DATA = [\n",
    "    (\"Quel beau cheval!\", {\n",
    "        'entities': [(10, 16, 'ANIMAL')]\n",
    "    }),\n",
    "\n",
    "    (\"Le cheval.\", {\n",
    "        'entities': [(3, 9, 'ANIMAL')]\n",
    "    }),\n",
    "\n",
    "    (\"Cheval blanc, cheval noir.\", {\n",
    "        'entities': [(0, 6, 'ANIMAL'),(14, 20, 'ANIMAL')]\n",
    "    }),\n",
    "\n",
    "    (\"J'aime les chevaux.\", {\n",
    "        'entities': [(11, 17, 'ANIMAL')]\n",
    "    }),\n",
    "\n",
    "    (\"Quel bel âne.\", {\n",
    "        'entities': [(9, 11, 'ANIMAL')]\n",
    "    }),\n",
    "\n",
    "    (\"Le cheval ne vaut pas l'avoine.\", {\n",
    "        'entities': [(3, 9, 'ANIMAL')]\n",
    "    }),\n",
    "    (\"Monte sur ton cheval le plus noble.\", {\n",
    "        'entities': [(14, 20, 'ANIMAL')]\n",
    "    }),\n",
    "    (\"Bride de cheval ne va pas à un âne..\", {\n",
    "        'entities': [(9, 15, 'ANIMAL'),(31, 34, 'ANIMAL')]\n",
    "    }),\n",
    "    (\"On connaît le cheval en chemin, et le cavalier à l'auberge.\", {\n",
    "        'entities': [(14, 20, 'ANIMAL')]\n",
    "    })\n",
    "    \n",
    "]\n"
   ]
  },
  {
   "cell_type": "code",
   "execution_count": 97,
   "metadata": {},
   "outputs": [],
   "source": [
    "# Choix des paramètres\n",
    "\n",
    "model =None# Si model = None alors nouveau modèle \n",
    "model_name = \"Animal\"# Nom du modèle\n",
    "out_dir = None # répertoire où sauvegarder le modèle\n",
    "nb_iter = 15 # nombre d'itérations\n",
    "\n",
    "params = (model, model_name,TRAIN_DATA, LABEL, out_dir, nb_iter)"
   ]
  },
  {
   "cell_type": "code",
   "execution_count": 98,
   "metadata": {},
   "outputs": [],
   "source": [
    "class Model:\n",
    "    def __init__(self,model,model_name, training_data,labels,out_dir, nb_iter):\n",
    "        self.model_name = model_name\n",
    "        self.nb_iter = nb_iter\n",
    "        self.training_data = training_data\n",
    "        self.out_dir=out_dir\n",
    "        if model is not None:\n",
    "            self.nlp = spacy.load(model)\n",
    "            print(\"Loaded model '%s'\" % model)\n",
    "        else:\n",
    "            self.nlp = spacy.blank('fr')\n",
    "            print(\"Created blank'fr' model\")\n",
    "            \n",
    "        if 'ner' not in self.nlp.pipe_names:\n",
    "            self.ner = self.nlp.create_pipe('ner')\n",
    "            self.nlp.add_pipe(self.ner)\n",
    " \n",
    "        else:\n",
    "            self.ner = nlp.get_pipe('ner')\n",
    "            \n",
    "        self.ner.add_label(labels)\n",
    "        if model is None:\n",
    "            self.optimizer = self.nlp.begin_training()\n",
    "        else:\n",
    "            self.optimizer = self.nlp.entity.create_optimizer()\n",
    "            \n",
    "\n",
    "    def train(self):\n",
    "        other_pipes = [pipe for pipe in self.nlp.pipe_names if pipe != 'ner']\n",
    "        with self.nlp.disable_pipes(*other_pipes):  # only train NER\n",
    "            for itn in range(self.nb_iter):\n",
    "                random.shuffle(self.training_data)\n",
    "                losses = {}\n",
    "                for text, annotations in tqdm(self.training_data):\n",
    "                    self.nlp.update([text], [annotations], sgd=self.optimizer, drop=0.35,\n",
    "                        losses=losses)\n",
    "                print(losses)\n",
    "                \n",
    "    def test(self, test_data):\n",
    "        doc = self.nlp(test_data)\n",
    "        displacy.render(doc, style=\"ent\", jupyter=\"true\")\n",
    "        return doc\n",
    "\n",
    "    def evaluate(self, examples):\n",
    "        scorer = Scorer()\n",
    "        for sents, ents in examples:\n",
    "            doc_gold = self.nlp.make_doc(sents)\n",
    "            gold = GoldParse(doc_gold, entities=ents['entities'])\n",
    "            pred_value = self.nlp(sents)\n",
    "            displacy.render(pred_value, style=\"ent\", jupyter=\"true\")\n",
    "            scorer.score(pred_value, gold)\n",
    "        return scorer.scores\n",
    "        "
   ]
  },
  {
   "cell_type": "code",
   "execution_count": 99,
   "metadata": {},
   "outputs": [
    {
     "name": "stdout",
     "output_type": "stream",
     "text": [
      "Created blank'fr' model\n",
      "Warning: Unnamed vectors -- this won't allow multiple vectors models to be loaded. (Shape: (0, 0))\n"
     ]
    }
   ],
   "source": [
    "# Création du modèle\n",
    "model = Model(model, model_name,TRAIN_DATA, LABEL, out_dir, nb_iter)"
   ]
  },
  {
   "cell_type": "code",
   "execution_count": 100,
   "metadata": {},
   "outputs": [
    {
     "name": "stderr",
     "output_type": "stream",
     "text": [
      "100%|██████████| 9/9 [00:00<00:00, 13.22it/s]\n",
      " 22%|██▏       | 2/9 [00:00<00:00, 16.06it/s]"
     ]
    },
    {
     "name": "stdout",
     "output_type": "stream",
     "text": [
      "{'ner': 44.18627920412176}\n"
     ]
    },
    {
     "name": "stderr",
     "output_type": "stream",
     "text": [
      "100%|██████████| 9/9 [00:00<00:00, 12.44it/s]\n",
      " 22%|██▏       | 2/9 [00:00<00:00, 15.74it/s]"
     ]
    },
    {
     "name": "stdout",
     "output_type": "stream",
     "text": [
      "{'ner': 15.341959476502286}\n"
     ]
    },
    {
     "name": "stderr",
     "output_type": "stream",
     "text": [
      "100%|██████████| 9/9 [00:00<00:00, 15.72it/s]\n",
      " 22%|██▏       | 2/9 [00:00<00:00, 17.53it/s]"
     ]
    },
    {
     "name": "stdout",
     "output_type": "stream",
     "text": [
      "{'ner': 7.960552868470505}\n"
     ]
    },
    {
     "name": "stderr",
     "output_type": "stream",
     "text": [
      "100%|██████████| 9/9 [00:00<00:00, 17.50it/s]\n",
      " 22%|██▏       | 2/9 [00:00<00:00, 19.30it/s]"
     ]
    },
    {
     "name": "stdout",
     "output_type": "stream",
     "text": [
      "{'ner': 4.1331008428524765}\n"
     ]
    },
    {
     "name": "stderr",
     "output_type": "stream",
     "text": [
      "100%|██████████| 9/9 [00:00<00:00, 19.20it/s]\n",
      " 22%|██▏       | 2/9 [00:00<00:00, 18.63it/s]"
     ]
    },
    {
     "name": "stdout",
     "output_type": "stream",
     "text": [
      "{'ner': 0.059050931540355595}\n"
     ]
    },
    {
     "name": "stderr",
     "output_type": "stream",
     "text": [
      "100%|██████████| 9/9 [00:00<00:00, 19.19it/s]\n",
      " 33%|███▎      | 3/9 [00:00<00:00, 20.44it/s]"
     ]
    },
    {
     "name": "stdout",
     "output_type": "stream",
     "text": [
      "{'ner': 1.8919432169144268}\n"
     ]
    },
    {
     "name": "stderr",
     "output_type": "stream",
     "text": [
      "100%|██████████| 9/9 [00:00<00:00, 19.37it/s]\n",
      " 22%|██▏       | 2/9 [00:00<00:00, 18.32it/s]"
     ]
    },
    {
     "name": "stdout",
     "output_type": "stream",
     "text": [
      "{'ner': 1.9188702407473277}\n"
     ]
    },
    {
     "name": "stderr",
     "output_type": "stream",
     "text": [
      "100%|██████████| 9/9 [00:00<00:00, 17.99it/s]\n",
      " 22%|██▏       | 2/9 [00:00<00:00, 18.68it/s]"
     ]
    },
    {
     "name": "stdout",
     "output_type": "stream",
     "text": [
      "{'ner': 0.6216916573980303}\n"
     ]
    },
    {
     "name": "stderr",
     "output_type": "stream",
     "text": [
      "100%|██████████| 9/9 [00:00<00:00, 18.69it/s]\n",
      " 22%|██▏       | 2/9 [00:00<00:00, 18.44it/s]"
     ]
    },
    {
     "name": "stdout",
     "output_type": "stream",
     "text": [
      "{'ner': 1.5560488592773518e-07}\n"
     ]
    },
    {
     "name": "stderr",
     "output_type": "stream",
     "text": [
      "100%|██████████| 9/9 [00:00<00:00, 18.97it/s]\n",
      " 22%|██▏       | 2/9 [00:00<00:00, 19.01it/s]"
     ]
    },
    {
     "name": "stdout",
     "output_type": "stream",
     "text": [
      "{'ner': 0.21357608889604016}\n"
     ]
    },
    {
     "name": "stderr",
     "output_type": "stream",
     "text": [
      "100%|██████████| 9/9 [00:00<00:00, 19.19it/s]\n",
      " 22%|██▏       | 2/9 [00:00<00:00, 19.05it/s]"
     ]
    },
    {
     "name": "stdout",
     "output_type": "stream",
     "text": [
      "{'ner': 3.23925829106002}\n"
     ]
    },
    {
     "name": "stderr",
     "output_type": "stream",
     "text": [
      "100%|██████████| 9/9 [00:00<00:00, 19.01it/s]\n",
      " 22%|██▏       | 2/9 [00:00<00:00, 19.70it/s]"
     ]
    },
    {
     "name": "stdout",
     "output_type": "stream",
     "text": [
      "{'ner': 0.6467271217552487}\n"
     ]
    },
    {
     "name": "stderr",
     "output_type": "stream",
     "text": [
      "100%|██████████| 9/9 [00:00<00:00, 18.97it/s]\n",
      " 22%|██▏       | 2/9 [00:00<00:00, 17.05it/s]"
     ]
    },
    {
     "name": "stdout",
     "output_type": "stream",
     "text": [
      "{'ner': 1.330493989145907}\n"
     ]
    },
    {
     "name": "stderr",
     "output_type": "stream",
     "text": [
      "100%|██████████| 9/9 [00:00<00:00, 18.66it/s]\n",
      " 22%|██▏       | 2/9 [00:00<00:00, 18.61it/s]"
     ]
    },
    {
     "name": "stdout",
     "output_type": "stream",
     "text": [
      "{'ner': 3.118620517277738e-14}\n"
     ]
    },
    {
     "name": "stderr",
     "output_type": "stream",
     "text": [
      "100%|██████████| 9/9 [00:00<00:00, 18.66it/s]"
     ]
    },
    {
     "name": "stdout",
     "output_type": "stream",
     "text": [
      "{'ner': 5.195592631235607e-09}\n"
     ]
    },
    {
     "name": "stderr",
     "output_type": "stream",
     "text": [
      "\n"
     ]
    }
   ],
   "source": [
    "#Entrainement du modèle\n",
    "model.train()"
   ]
  },
  {
   "cell_type": "code",
   "execution_count": 101,
   "metadata": {},
   "outputs": [
    {
     "data": {
      "text/html": [
       "<div class=\"entities\" style=\"line-height: 2.5\">On dit qu'un \n",
       "<mark class=\"entity\" style=\"background: #ddd; padding: 0.45em 0.6em; margin: 0 0.25em; line-height: 1; border-radius: 0.35em; box-decoration-break: clone; -webkit-box-decoration-break: clone\">\n",
       "    cheval\n",
       "    <span style=\"font-size: 0.8em; font-weight: bold; line-height: 1; border-radius: 0.35em; text-transform: uppercase; vertical-align: middle; margin-left: 0.5rem\">ANIMAL</span>\n",
       "</mark>\n",
       " est calme lorsqu'il limite l'emploi de ses forces aux exigences de son cavalier. Tout travail entreprit sur un \n",
       "<mark class=\"entity\" style=\"background: #ddd; padding: 0.45em 0.6em; margin: 0 0.25em; line-height: 1; border-radius: 0.35em; box-decoration-break: clone; -webkit-box-decoration-break: clone\">\n",
       "    cheval\n",
       "    <span style=\"font-size: 0.8em; font-weight: bold; line-height: 1; border-radius: 0.35em; text-transform: uppercase; vertical-align: middle; margin-left: 0.5rem\">ANIMAL</span>\n",
       "</mark>\n",
       " irrité, impatient, inquiet, préoccupé de ce qui l'entoure ou en crainte de son cavalier, ne peut être que mauvais. Le calme n'est donc pas comparable à del'apathie et n'est pas le propre des chevaux manquant d'influx nerveux. Un \n",
       "<mark class=\"entity\" style=\"background: #ddd; padding: 0.45em 0.6em; margin: 0 0.25em; line-height: 1; border-radius: 0.35em; box-decoration-break: clone; -webkit-box-decoration-break: clone\">\n",
       "    cheval\n",
       "    <span style=\"font-size: 0.8em; font-weight: bold; line-height: 1; border-radius: 0.35em; text-transform: uppercase; vertical-align: middle; margin-left: 0.5rem\">ANIMAL</span>\n",
       "</mark>\n",
       " endormi n'est pas nécessairement un \n",
       "<mark class=\"entity\" style=\"background: #ddd; padding: 0.45em 0.6em; margin: 0 0.25em; line-height: 1; border-radius: 0.35em; box-decoration-break: clone; -webkit-box-decoration-break: clone\">\n",
       "    cheval\n",
       "    <span style=\"font-size: 0.8em; font-weight: bold; line-height: 1; border-radius: 0.35em; text-transform: uppercase; vertical-align: middle; margin-left: 0.5rem\">ANIMAL</span>\n",
       "</mark>\n",
       " calme et la résignation du cheval recherchée quelques fois par la mise en œuvre de procédures brutales n'est pas non plus une source de calme. On a trop tendance à associer le calme à un 'manque de vie', voire un obstacle à la performance sportive. C'est tout le contraire, un \n",
       "<mark class=\"entity\" style=\"background: #ddd; padding: 0.45em 0.6em; margin: 0 0.25em; line-height: 1; border-radius: 0.35em; box-decoration-break: clone; -webkit-box-decoration-break: clone\">\n",
       "    cheval\n",
       "    <span style=\"font-size: 0.8em; font-weight: bold; line-height: 1; border-radius: 0.35em; text-transform: uppercase; vertical-align: middle; margin-left: 0.5rem\">ANIMAL</span>\n",
       "</mark>\n",
       " calme est vivant, réactif et ordonné.</div>"
      ],
      "text/plain": [
       "<IPython.core.display.HTML object>"
      ]
     },
     "metadata": {},
     "output_type": "display_data"
    }
   ],
   "source": [
    "# Test du modèle:\n",
    "test_text = (\"On dit qu\\'un cheval est calme lorsqu'il limite l\\'emploi de ses forces aux exigences de son cavalier. \"\n",
    "            \"Tout travail entreprit sur un cheval irrité, impatient, inquiet, préoccupé de ce qui l\\'entoure ou en crainte \"\n",
    "            \"de son cavalier, ne peut être que mauvais. Le calme n\\'est donc pas comparable à de\"\n",
    "            \"l\\'apathie et n'est pas le propre des chevaux manquant d\\'influx nerveux. Un cheval endormi n\\'est pas \"\n",
    "            \"nécessairement un cheval calme et la résignation du cheval recherchée quelques fois par la mise en œuvre \"\n",
    "            \"de procédures brutales n\\'est pas non plus une source de calme. On a trop tendance à associer le calme à un \"\n",
    "            \"\\'manque de vie\\', voire un obstacle à la performance sportive. C\\'est tout le contraire, un cheval calme est \"\n",
    "            \"vivant, réactif et ordonné.\")\n",
    "\n",
    "doc= model.test(test_text)\n",
    "\n"
   ]
  },
  {
   "cell_type": "code",
   "execution_count": 102,
   "metadata": {},
   "outputs": [
    {
     "data": {
      "text/html": [
       "<div class=\"entities\" style=\"line-height: 2.5\">On dit qu'un \n",
       "<mark class=\"entity\" style=\"background: #ddd; padding: 0.45em 0.6em; margin: 0 0.25em; line-height: 1; border-radius: 0.35em; box-decoration-break: clone; -webkit-box-decoration-break: clone\">\n",
       "    cheval\n",
       "    <span style=\"font-size: 0.8em; font-weight: bold; line-height: 1; border-radius: 0.35em; text-transform: uppercase; vertical-align: middle; margin-left: 0.5rem\">ANIMAL</span>\n",
       "</mark>\n",
       " est calme</div>"
      ],
      "text/plain": [
       "<IPython.core.display.HTML object>"
      ]
     },
     "metadata": {},
     "output_type": "display_data"
    },
    {
     "data": {
      "text/html": [
       "<div class=\"entities\" style=\"line-height: 2.5\">Un \n",
       "<mark class=\"entity\" style=\"background: #ddd; padding: 0.45em 0.6em; margin: 0 0.25em; line-height: 1; border-radius: 0.35em; box-decoration-break: clone; -webkit-box-decoration-break: clone\">\n",
       "    cheval\n",
       "    <span style=\"font-size: 0.8em; font-weight: bold; line-height: 1; border-radius: 0.35em; text-transform: uppercase; vertical-align: middle; margin-left: 0.5rem\">ANIMAL</span>\n",
       "</mark>\n",
       " endormi n'est pas nécessairement un zèbre calme</div>"
      ],
      "text/plain": [
       "<IPython.core.display.HTML object>"
      ]
     },
     "metadata": {},
     "output_type": "display_data"
    },
    {
     "data": {
      "text/plain": [
       "{'uas': 0.0,\n",
       " 'las': 0.0,\n",
       " 'ents_p': 100.0,\n",
       " 'ents_r': 66.66666666666666,\n",
       " 'ents_f': 80.0,\n",
       " 'tags_acc': 0.0,\n",
       " 'token_acc': 100.0}"
      ]
     },
     "execution_count": 102,
     "metadata": {},
     "output_type": "execute_result"
    }
   ],
   "source": [
    "examples = [(\"On dit qu\\'un cheval est calme\",{\n",
    "            'entities': [(13, 19, 'ANIMAL')]\n",
    "            }),\n",
    "            (\"Un cheval endormi n\\'est pas nécessairement un zèbre calme\",{\n",
    "             'entities': [(3, 9, 'ANIMAL'),(46,51, 'ANIMAL')]   \n",
    "            })\n",
    "           ]\n",
    "examples_without_annotation = \"On dit qu\\'un cheval est calme. Un cheval endormi n\\'est pas nécessairement un zèbre calme\"\n",
    "\n",
    "model.evaluate(examples)"
   ]
  },
  {
   "cell_type": "code",
   "execution_count": null,
   "metadata": {},
   "outputs": [],
   "source": [
    "#ents_p = entities_precision\n",
    "#ents_r = entities_recall\n",
    "#ents_f = entities_f_score\n",
    "\n",
    "#Doesn't seem to work yet\n",
    "# nevermind fixed it\n"
   ]
  }
 ],
 "metadata": {
  "kernelspec": {
   "display_name": "Python 3",
   "language": "python",
   "name": "python3"
  },
  "language_info": {
   "codemirror_mode": {
    "name": "ipython",
    "version": 3
   },
   "file_extension": ".py",
   "mimetype": "text/x-python",
   "name": "python",
   "nbconvert_exporter": "python",
   "pygments_lexer": "ipython3",
   "version": "3.7.7"
  }
 },
 "nbformat": 4,
 "nbformat_minor": 4
}
